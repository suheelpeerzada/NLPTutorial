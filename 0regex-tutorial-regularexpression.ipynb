{
 "cells": [
  {
   "cell_type": "code",
   "execution_count": 2,
   "id": "c598c123-6af2-4461-a6a7-e7b48076e3ab",
   "metadata": {},
   "outputs": [],
   "source": [
    "import re #regular expression module"
   ]
  },
  {
   "cell_type": "code",
   "execution_count": 3,
   "id": "9707c86f-c110-45e5-b476-60f4204c7f5c",
   "metadata": {},
   "outputs": [],
   "source": [
    "chat1 = 'codebasics: you ask a lot of questions 😒 1235678912, abc@xyz.com'\n",
    "chat2 = 'codebasics: here it is: (123)-567-8912, abc@xyz.com'\n",
    "chat3 = 'codebasics: yes, phone: 1235678912 email: abc@xyz.com'"
   ]
  },
  {
   "cell_type": "code",
   "execution_count": 9,
   "id": "2add844f-3c25-4ad9-a4ae-3736e7e04aa0",
   "metadata": {},
   "outputs": [
    {
     "data": {
      "text/plain": [
       "['12356', '78912']"
      ]
     },
     "execution_count": 9,
     "metadata": {},
     "output_type": "execute_result"
    }
   ],
   "source": [
    "pattern = '\\\\d{5}' #expression copied from regex101.com (used extra backslash due to escape sequence character) actual: \\d{5} where \\d is used for numbers\n",
    "matches = re.findall(pattern, chat1)  #takes pattern as parameter and the chat where we need to find the pattern\n",
    "matches"
   ]
  },
  {
   "cell_type": "code",
   "execution_count": 12,
   "id": "b2dcb606-f365-46e2-a7f7-224f67c9636e",
   "metadata": {},
   "outputs": [
    {
     "data": {
      "text/plain": [
       "['(123)']"
      ]
     },
     "execution_count": 12,
     "metadata": {},
     "output_type": "execute_result"
    }
   ],
   "source": [
    "pattern1 = '\\\\(\\\\d{3}\\\\)' #double backslach for escape sequence actual: \\(\\d{3}\\)\n",
    "match2 = re.findall(pattern1, chat2)\n",
    "match2"
   ]
  },
  {
   "cell_type": "code",
   "execution_count": 14,
   "id": "f182445a-aee0-4558-b1ca-b73d7359fc32",
   "metadata": {},
   "outputs": [
    {
     "name": "stderr",
     "output_type": "stream",
     "text": [
      "<>:1: SyntaxWarning: invalid escape sequence '\\('\n",
      "<>:1: SyntaxWarning: invalid escape sequence '\\('\n",
      "C:\\Users\\suhee\\AppData\\Local\\Temp\\ipykernel_1664\\359020598.py:1: SyntaxWarning: invalid escape sequence '\\('\n",
      "  pattern2 = '\\(\\d{3}\\)-\\d{3}-\\d{4}'\n"
     ]
    },
    {
     "data": {
      "text/plain": [
       "['(123)-567-8912']"
      ]
     },
     "execution_count": 14,
     "metadata": {},
     "output_type": "execute_result"
    }
   ],
   "source": [
    "pattern2 = '\\(\\d{3}\\)-\\d{3}-\\d{4}' #didnt put extra cuz the code just ran so...\n",
    "match3 = re.findall(pattern2, chat2)\n",
    "match3"
   ]
  },
  {
   "cell_type": "code",
   "execution_count": 17,
   "id": "fdc8ec3e-c399-4ab3-96b3-8e4ce9715d10",
   "metadata": {},
   "outputs": [
    {
     "name": "stderr",
     "output_type": "stream",
     "text": [
      "<>:1: SyntaxWarning: invalid escape sequence '\\d'\n",
      "<>:1: SyntaxWarning: invalid escape sequence '\\d'\n",
      "C:\\Users\\suhee\\AppData\\Local\\Temp\\ipykernel_1664\\892463622.py:1: SyntaxWarning: invalid escape sequence '\\d'\n",
      "  pattern3 = '\\d{10}|\\(\\d{3}\\)-\\d{3}-\\d{4}' # '|' is used as 'or'\n"
     ]
    }
   ],
   "source": [
    "pattern3 = '\\d{10}|\\(\\d{3}\\)-\\d{3}-\\d{4}' # '|' is used as 'or'\n",
    "match4 = re.findall(pattern3, chat2)\n",
    "match5 = re.findall(pattern3, chat3)"
   ]
  },
  {
   "cell_type": "code",
   "execution_count": 18,
   "id": "86bd28b5-1919-4d1a-bccf-33c2a7236e79",
   "metadata": {},
   "outputs": [
    {
     "data": {
      "text/plain": [
       "['(123)-567-8912']"
      ]
     },
     "execution_count": 18,
     "metadata": {},
     "output_type": "execute_result"
    }
   ],
   "source": [
    "match4"
   ]
  },
  {
   "cell_type": "code",
   "execution_count": 19,
   "id": "05957485-772f-4c8a-b00a-8debf3f62e48",
   "metadata": {},
   "outputs": [
    {
     "data": {
      "text/plain": [
       "['1235678912']"
      ]
     },
     "execution_count": 19,
     "metadata": {},
     "output_type": "execute_result"
    }
   ],
   "source": [
    "match5"
   ]
  },
  {
   "cell_type": "code",
   "execution_count": 20,
   "id": "45094c81-69a0-4ecc-938d-0d9dd8432e72",
   "metadata": {},
   "outputs": [
    {
     "name": "stderr",
     "output_type": "stream",
     "text": [
      "<>:1: SyntaxWarning: invalid escape sequence '\\.'\n",
      "<>:1: SyntaxWarning: invalid escape sequence '\\.'\n",
      "C:\\Users\\suhee\\AppData\\Local\\Temp\\ipykernel_1664\\1291994888.py:1: SyntaxWarning: invalid escape sequence '\\.'\n",
      "  pattern4 = '[a-zA-Z0-9_.]*@[a-z]*\\.[a-zA-Z]*' #commas arent needed to separate\n"
     ]
    },
    {
     "data": {
      "text/plain": [
       "['abc@xyz.com']"
      ]
     },
     "execution_count": 20,
     "metadata": {},
     "output_type": "execute_result"
    }
   ],
   "source": [
    "pattern4 = '[a-zA-Z0-9_.]*@[a-z]*\\.[a-zA-Z]*' #commas arent needed to separate\n",
    "match6 = re.findall(pattern4, chat2)\n",
    "match6"
   ]
  },
  {
   "cell_type": "code",
   "execution_count": 21,
   "id": "349e07ee-7cf2-4cac-bda2-7e6b7b3eb208",
   "metadata": {},
   "outputs": [],
   "source": [
    "chat4 = 'codebasics: Hello, I am having an issue with my order # 412889912'\n",
    "chat5 = 'codebasics: I have a problem with my order number 412889912'\n",
    "chat6 = 'codebasics: My order 412889912 is having an issue, I was charged 300$ when online it says 200$'"
   ]
  },
  {
   "cell_type": "code",
   "execution_count": 24,
   "id": "3959a59d-6121-4cbc-a08f-3d8544ccbede",
   "metadata": {},
   "outputs": [
    {
     "name": "stderr",
     "output_type": "stream",
     "text": [
      "<>:1: SyntaxWarning: invalid escape sequence '\\d'\n",
      "<>:1: SyntaxWarning: invalid escape sequence '\\d'\n",
      "C:\\Users\\suhee\\AppData\\Local\\Temp\\ipykernel_1664\\294251716.py:1: SyntaxWarning: invalid escape sequence '\\d'\n",
      "  pattern5 = 'order[^\\d]*(\\d*)'\n"
     ]
    },
    {
     "data": {
      "text/plain": [
       "['412889912']"
      ]
     },
     "execution_count": 24,
     "metadata": {},
     "output_type": "execute_result"
    }
   ],
   "source": [
    "pattern5 = 'order[^\\d]*(\\d*)' #brackets () create a seaparate group and only puts that group in the array.\n",
    "match7 = re.findall(pattern5, chat5)\n",
    "match7"
   ]
  },
  {
   "cell_type": "code",
   "execution_count": null,
   "id": "0eb40075-883b-4566-936b-232d78e8f7de",
   "metadata": {},
   "outputs": [],
   "source": []
  }
 ],
 "metadata": {
  "kernelspec": {
   "display_name": "Python 3 (ipykernel)",
   "language": "python",
   "name": "python3"
  },
  "language_info": {
   "codemirror_mode": {
    "name": "ipython",
    "version": 3
   },
   "file_extension": ".py",
   "mimetype": "text/x-python",
   "name": "python",
   "nbconvert_exporter": "python",
   "pygments_lexer": "ipython3",
   "version": "3.13.3"
  }
 },
 "nbformat": 4,
 "nbformat_minor": 5
}
