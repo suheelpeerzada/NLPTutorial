{
 "cells": [
  {
   "cell_type": "code",
   "execution_count": 1,
   "id": "d3c73384-0111-40ee-8851-de6d2cdff875",
   "metadata": {},
   "outputs": [],
   "source": [
    "import re"
   ]
  },
  {
   "cell_type": "code",
   "execution_count": 2,
   "id": "e55fd230-aaf0-4757-81f3-4881399f9620",
   "metadata": {},
   "outputs": [],
   "source": [
    "text = '''\n",
    "Born\tMukesh Dhirubhai Ambani\n",
    "19 April 1957 (age 64)\n",
    "Aden, Colony of Aden\n",
    "(present-day Yemen)[1][2]\n",
    "Nationality\tIndian\n",
    "Alma mater\t\n",
    "St. Xavier's College, Mumbai\n",
    "Institute of Chemical Technology (B.E.)\n",
    "Stanford University (drop-out)\n",
    "Occupation\tChairman and MD, Reliance Industries\n",
    "Spouse(s)\tNita Ambani ​(m. 1985)​[3]\n",
    "Children\t3\n",
    "Parent(s)\t\n",
    "Dhirubhai Ambani (father)\n",
    "Kokilaben Ambani (mother)\n",
    "Relatives\tAnil Ambani (brother)\n",
    "Tina Ambani (sister-in-law)\n",
    "'''"
   ]
  },
  {
   "cell_type": "code",
   "execution_count": 15,
   "id": "a114d8c3-169e-4404-89c2-03d87fa10607",
   "metadata": {},
   "outputs": [],
   "source": [
    "text1 = '''Born\tElon Reeve Musk\n",
    "June 28, 1971 (age 54)\n",
    "Pretoria, South Africa\n",
    "Citizenship\t\n",
    "South Africa\n",
    "Canada\n",
    "U.S. (since 2002)\n",
    "Political party\tIndependent\n",
    "Spouses\t\n",
    "Justine Wilson\n",
    "​\n",
    "​(m. 2000; div. 2008)​\n",
    "Talulah Riley\n",
    "​\n",
    "​(m. 2010; div. 2016)​\n",
    "Children\t≥14\n",
    "Parents\t\n",
    "Errol Musk (father)\n",
    "Maye Musk (mother)\n",
    "Relatives\tMusk family\n",
    "Education\tUniversity of Pennsylvania (BA, BS)\n",
    "Occupation\t\n",
    "CEO and product architect of Tesla\n",
    "Founder, CEO, and chief engineer of SpaceX\n",
    "Founder and CEO of xAI\n",
    "Founder of the Boring Company and X Corp.\n",
    "Co-founder of Neuralink, OpenAI, Zip2, and X.com (part of PayPal)\n",
    "President of the Musk Foundation\n",
    "Awards\tFull list\n",
    "Signature'''"
   ]
  },
  {
   "cell_type": "code",
   "execution_count": 3,
   "id": "f7fd1de1-40aa-4cb8-80fd-b7d05f5ddb2b",
   "metadata": {},
   "outputs": [
    {
     "name": "stderr",
     "output_type": "stream",
     "text": [
      "<>:1: SyntaxWarning: invalid escape sequence '\\d'\n",
      "<>:1: SyntaxWarning: invalid escape sequence '\\d'\n",
      "C:\\Users\\suhee\\AppData\\Local\\Temp\\ipykernel_1268\\631320016.py:1: SyntaxWarning: invalid escape sequence '\\d'\n",
      "  pattern = 'age (\\d+)' #age\n"
     ]
    },
    {
     "data": {
      "text/plain": [
       "['64']"
      ]
     },
     "execution_count": 3,
     "metadata": {},
     "output_type": "execute_result"
    }
   ],
   "source": [
    "pattern = 'age (\\d+)' #age\n",
    "match = re.findall(pattern,text)\n",
    "match"
   ]
  },
  {
   "cell_type": "code",
   "execution_count": 4,
   "id": "265d1246-5f2d-4686-942b-cc5709660553",
   "metadata": {},
   "outputs": [
    {
     "data": {
      "text/plain": [
       "['Mukesh', 'Dhirubhai', 'Ambani']"
      ]
     },
     "execution_count": 4,
     "metadata": {},
     "output_type": "execute_result"
    }
   ],
   "source": [
    "pattern1 = 'Born(.*)' #name\n",
    "match1 = re.findall(pattern1,text)\n",
    "match1[0].split()"
   ]
  },
  {
   "cell_type": "code",
   "execution_count": 5,
   "id": "c21a22c1-66a6-4ecf-8573-658b7cfb0278",
   "metadata": {},
   "outputs": [
    {
     "name": "stderr",
     "output_type": "stream",
     "text": [
      "<>:1: SyntaxWarning: invalid escape sequence '\\('\n",
      "<>:1: SyntaxWarning: invalid escape sequence '\\('\n",
      "C:\\Users\\suhee\\AppData\\Local\\Temp\\ipykernel_1268\\60623311.py:1: SyntaxWarning: invalid escape sequence '\\('\n",
      "  pattern2 = 'Born.*\\n(.*)\\(age' #birthdate\n"
     ]
    },
    {
     "data": {
      "text/plain": [
       "['19 April 1957 ']"
      ]
     },
     "execution_count": 5,
     "metadata": {},
     "output_type": "execute_result"
    }
   ],
   "source": [
    "pattern2 = 'Born.*\\n(.*)\\(age' #birthdate\n",
    "match2 = re.findall(pattern2, text)\n",
    "match2"
   ]
  },
  {
   "cell_type": "code",
   "execution_count": 7,
   "id": "0b64da3c-5a9c-4681-8f0a-c6e6726b31e0",
   "metadata": {},
   "outputs": [
    {
     "name": "stderr",
     "output_type": "stream",
     "text": [
      "<>:1: SyntaxWarning: invalid escape sequence '\\('\n",
      "<>:1: SyntaxWarning: invalid escape sequence '\\('\n",
      "C:\\Users\\suhee\\AppData\\Local\\Temp\\ipykernel_1268\\1076434764.py:1: SyntaxWarning: invalid escape sequence '\\('\n",
      "  pattern3 = '\\(age.*\\n(.*)' #birthplace\n"
     ]
    },
    {
     "data": {
      "text/plain": [
       "['Aden, Colony of Aden']"
      ]
     },
     "execution_count": 7,
     "metadata": {},
     "output_type": "execute_result"
    }
   ],
   "source": [
    "pattern3 = '\\(age.*\\n(.*)' #birthplace\n",
    "match3 = re.findall(pattern3,text)\n",
    "match3"
   ]
  },
  {
   "cell_type": "code",
   "execution_count": 8,
   "id": "fb7019ca-2bda-4bd4-8633-8a575eff5951",
   "metadata": {},
   "outputs": [],
   "source": [
    "def get_pattern_match(pattern,text):\n",
    "    matches = re.findall(pattern,text)\n",
    "    if matches:\n",
    "        return matches[0]"
   ]
  },
  {
   "cell_type": "code",
   "execution_count": 13,
   "id": "d0ab4aac-aea8-413e-97c4-d18635580527",
   "metadata": {},
   "outputs": [],
   "source": [
    "def get_personal_info(text):\n",
    "    age = get_pattern_match(pattern,text)\n",
    "    full_name = get_pattern_match(pattern1,text)\n",
    "    birth_date = get_pattern_match(pattern2, text)\n",
    "    birth_place = get_pattern_match(pattern3, text)\n",
    "    return {'age':int(age), 'name': full_name.strip(), 'birth_date': birth_date.strip(),'birth_place': birth_place.strip()}"
   ]
  },
  {
   "cell_type": "code",
   "execution_count": 16,
   "id": "939450f6-7244-4d69-8054-c33afebee340",
   "metadata": {},
   "outputs": [
    {
     "data": {
      "text/plain": [
       "{'age': 54,\n",
       " 'name': 'Elon Reeve Musk',\n",
       " 'birth_date': 'June 28, 1971',\n",
       " 'birth_place': 'Pretoria, South Africa'}"
      ]
     },
     "execution_count": 16,
     "metadata": {},
     "output_type": "execute_result"
    }
   ],
   "source": [
    "get_personal_info(text1)"
   ]
  },
  {
   "cell_type": "code",
   "execution_count": 17,
   "id": "c0e1c756-a645-4a48-b794-cca7b237157c",
   "metadata": {},
   "outputs": [
    {
     "data": {
      "text/plain": [
       "{'age': 64,\n",
       " 'name': 'Mukesh Dhirubhai Ambani',\n",
       " 'birth_date': '19 April 1957',\n",
       " 'birth_place': 'Aden, Colony of Aden'}"
      ]
     },
     "execution_count": 17,
     "metadata": {},
     "output_type": "execute_result"
    }
   ],
   "source": [
    "get_personal_info(text)"
   ]
  },
  {
   "cell_type": "code",
   "execution_count": null,
   "id": "716b5dbf-eb40-4df6-ab27-3246af71b31f",
   "metadata": {},
   "outputs": [],
   "source": []
  }
 ],
 "metadata": {
  "kernelspec": {
   "display_name": "Python 3 (ipykernel)",
   "language": "python",
   "name": "python3"
  },
  "language_info": {
   "codemirror_mode": {
    "name": "ipython",
    "version": 3
   },
   "file_extension": ".py",
   "mimetype": "text/x-python",
   "name": "python",
   "nbconvert_exporter": "python",
   "pygments_lexer": "ipython3",
   "version": "3.13.3"
  }
 },
 "nbformat": 4,
 "nbformat_minor": 5
}
