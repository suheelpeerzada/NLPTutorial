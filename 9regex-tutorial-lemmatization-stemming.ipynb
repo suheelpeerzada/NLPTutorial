{
 "cells": [
  {
   "cell_type": "markdown",
   "id": "245b8429-bacd-4ee1-bfbb-dbba12d71baa",
   "metadata": {},
   "source": [
    "stemming/lametization: converting a word to its base words\n",
    "lametization is smarter. stemming will simply remove extra letter like 'ing'. but lametizatoin goes to the actual base word: ate -> eat"
   ]
  },
  {
   "cell_type": "code",
   "execution_count": 19,
   "id": "40c390af-04b9-46ef-ad18-9e87e80a74e2",
   "metadata": {},
   "outputs": [],
   "source": [
    "import nltk\n",
    "import spacy"
   ]
  },
  {
   "cell_type": "code",
   "execution_count": 20,
   "id": "b56dc5c0-7f25-4b55-81a8-2237b8a8f8a1",
   "metadata": {},
   "outputs": [],
   "source": [
    "from nltk.stem import PorterStemmer #stemming method nltk\n",
    "\n",
    "stemmer = PorterStemmer()"
   ]
  },
  {
   "cell_type": "code",
   "execution_count": 21,
   "id": "a77ea2c3-3521-4e3b-ab5e-5dd56e74c39f",
   "metadata": {},
   "outputs": [
    {
     "name": "stdout",
     "output_type": "stream",
     "text": [
      "eating | eat\n",
      "eats | eat\n",
      "eat | eat\n",
      "ate | ate\n",
      "adjustable | adjust\n",
      "rafting | raft\n",
      "ability | abil\n",
      "meeting | meet\n"
     ]
    }
   ],
   "source": [
    "words = ['eating', 'eats', 'eat', 'ate', 'adjustable', 'rafting', 'ability', 'meeting']\n",
    "\n",
    "for word in words:\n",
    "    print(word, '|', stemmer.stem(word))"
   ]
  },
  {
   "cell_type": "code",
   "execution_count": 24,
   "id": "7e8367fa-8e4f-4fb4-a689-b0afaa003478",
   "metadata": {},
   "outputs": [
    {
     "name": "stdout",
     "output_type": "stream",
     "text": [
      "eating | eat\n",
      "eats | eat\n",
      "eat | eat\n",
      "ate | eat\n",
      "adjustable | adjustable\n",
      "rafting | raft\n",
      "ability | ability\n",
      "meeting | meet\n",
      "better | well\n"
     ]
    }
   ],
   "source": [
    "nlp = spacy.load('en_core_web_sm')\n",
    "\n",
    "doc = nlp('eating eats eat ate adjustable rafting ability meeting better')\n",
    "\n",
    "for word in doc:\n",
    "    print(word, \"|\", word.lemma_) #word.lemma and word.lemma_ are different, the 'lemma' prints the hash of the word"
   ]
  },
  {
   "cell_type": "code",
   "execution_count": 26,
   "id": "cb467b82-6541-499c-8da0-ace5af8a4ee3",
   "metadata": {},
   "outputs": [
    {
     "name": "stdout",
     "output_type": "stream",
     "text": [
      "Mando | Mando\n",
      "talked | talk\n",
      "for | for\n",
      "3 | 3\n",
      "hours | hour\n",
      "although | although\n",
      "talking | talk\n",
      "is | be\n",
      "n't | not\n",
      "his | his\n",
      "thing | thing\n",
      ", | ,\n",
      "he | he\n",
      "became | become\n",
      "talkative | talkative\n"
     ]
    }
   ],
   "source": [
    "doc = nlp(\"Mando talked for 3 hours although talking isn't his thing, he became talkative\")\n",
    "\n",
    "for word in doc:\n",
    "    print(word, \"|\", word.lemma_)"
   ]
  },
  {
   "cell_type": "code",
   "execution_count": 27,
   "id": "aff84239-afb8-46c6-a9b2-1eb050d0d640",
   "metadata": {},
   "outputs": [
    {
     "data": {
      "text/plain": [
       "['tok2vec', 'tagger', 'parser', 'attribute_ruler', 'lemmatizer', 'ner']"
      ]
     },
     "execution_count": 27,
     "metadata": {},
     "output_type": "execute_result"
    }
   ],
   "source": [
    "nlp.pipe_names"
   ]
  },
  {
   "cell_type": "code",
   "execution_count": 29,
   "id": "017bed4b-d14b-48ed-b63e-13e3b6fae936",
   "metadata": {},
   "outputs": [],
   "source": [
    "#attr_ruler assigns particular attr to tokens\n",
    "#we can also add words that arent already present by the following code:"
   ]
  },
  {
   "cell_type": "code",
   "execution_count": 31,
   "id": "689cc22f-594d-4580-8291-80774b8b8555",
   "metadata": {},
   "outputs": [
    {
     "name": "stdout",
     "output_type": "stream",
     "text": [
      "Bro | Brother\n",
      ", | ,\n",
      "you | you\n",
      "wanna | wanna\n",
      "go | go\n",
      "? | ?\n",
      "Brah | Brother\n",
      ", | ,\n",
      "do | do\n",
      "n't | not\n",
      "say | say\n",
      "no | no\n",
      "! | !\n",
      "I | I\n",
      "am | be\n",
      "exhausted | exhaust\n"
     ]
    }
   ],
   "source": [
    "ar = nlp.get_pipe(\"attribute_ruler\")\n",
    "ar.add([[{\"TEXT\":\"Brah\"}],[{\"TEXT\":\"Bro\"}]], {'LEMMA':'Brother'})\n",
    "#ar.add([the used word],{the base word})\n",
    "\n",
    "doc = nlp(\"Bro, you wanna go? Brah, don't say no! I am exhausted\")\n",
    "for word in doc:\n",
    "    print(word, \"|\", word.lemma_)"
   ]
  },
  {
   "cell_type": "code",
   "execution_count": null,
   "id": "52f68d72-f95c-46bf-9930-83dd6a72222c",
   "metadata": {},
   "outputs": [],
   "source": []
  }
 ],
 "metadata": {
  "kernelspec": {
   "display_name": "Python 3 (ipykernel)",
   "language": "python",
   "name": "python3"
  },
  "language_info": {
   "codemirror_mode": {
    "name": "ipython",
    "version": 3
   },
   "file_extension": ".py",
   "mimetype": "text/x-python",
   "name": "python",
   "nbconvert_exporter": "python",
   "pygments_lexer": "ipython3",
   "version": "3.13.3"
  }
 },
 "nbformat": 4,
 "nbformat_minor": 5
}
