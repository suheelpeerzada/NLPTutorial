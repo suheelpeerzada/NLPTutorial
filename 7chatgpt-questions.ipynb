{
 "cells": [
  {
   "cell_type": "code",
   "execution_count": 1,
   "id": "a4375b7a-6b24-46a1-889b-c3370d7df38d",
   "metadata": {},
   "outputs": [],
   "source": [
    "import re\n",
    "import spacy"
   ]
  },
  {
   "cell_type": "code",
   "execution_count": 2,
   "id": "420b5c94-247f-478a-a8b6-d36496f75c51",
   "metadata": {},
   "outputs": [],
   "source": [
    "chat1 = 'Tesla was founded in 2003. In 2021, they launched new models. By 2025, they plan more factories.'\n",
    "chat2 = 'Price: $1,299.99, Discount: $200, Final: $1,099.99'\n",
    "chat3 = 'Learning NLP is fun! #NLP #MachineLearning #AI #100DaysOfCode'\n",
    "chat4 = 'Contact us at support@codebasics.io or sales@mycompany.com'"
   ]
  },
  {
   "cell_type": "code",
   "execution_count": 3,
   "id": "99c0efc4-85f5-45fe-864a-f7276aa41f26",
   "metadata": {},
   "outputs": [],
   "source": [
    "def my_pattern(pattern, text):\n",
    "    match = re.findall(pattern,text)\n",
    "    return match"
   ]
  },
  {
   "cell_type": "code",
   "execution_count": 4,
   "id": "24d071df-4ba7-4698-b775-3a82c545061f",
   "metadata": {},
   "outputs": [
    {
     "name": "stdout",
     "output_type": "stream",
     "text": [
      "['2003', '2021', '2025']\n",
      "['$1,299.99', '$200', '$1,099.99']\n",
      "['#NLP', '#MachineLearning', '#AI', '#100DaysOfCode']\n",
      "['support@codebasics.io', 'sales@mycompany.com']\n"
     ]
    },
    {
     "name": "stderr",
     "output_type": "stream",
     "text": [
      "<>:1: SyntaxWarning: invalid escape sequence '\\d'\n",
      "<>:2: SyntaxWarning: invalid escape sequence '\\$'\n",
      "<>:3: SyntaxWarning: invalid escape sequence '\\#'\n",
      "<>:4: SyntaxWarning: invalid escape sequence '\\@'\n",
      "<>:1: SyntaxWarning: invalid escape sequence '\\d'\n",
      "<>:2: SyntaxWarning: invalid escape sequence '\\$'\n",
      "<>:3: SyntaxWarning: invalid escape sequence '\\#'\n",
      "<>:4: SyntaxWarning: invalid escape sequence '\\@'\n",
      "C:\\Users\\suhee\\AppData\\Local\\Temp\\ipykernel_8888\\136632781.py:1: SyntaxWarning: invalid escape sequence '\\d'\n",
      "  pattern1 = '\\d{4}'\n",
      "C:\\Users\\suhee\\AppData\\Local\\Temp\\ipykernel_8888\\136632781.py:2: SyntaxWarning: invalid escape sequence '\\$'\n",
      "  pattern2 = '\\$[\\d{1,3}][\\,\\d]+[\\.]?[\\d]+'\n",
      "C:\\Users\\suhee\\AppData\\Local\\Temp\\ipykernel_8888\\136632781.py:3: SyntaxWarning: invalid escape sequence '\\#'\n",
      "  pattern3 = '\\#[a-zA-Z\\d_]*'\n",
      "C:\\Users\\suhee\\AppData\\Local\\Temp\\ipykernel_8888\\136632781.py:4: SyntaxWarning: invalid escape sequence '\\@'\n",
      "  pattern4 = '[a-z]*\\@[a-z]*\\.[a-z]*'\n"
     ]
    }
   ],
   "source": [
    "pattern1 = '\\d{4}'\n",
    "pattern2 = '\\$[\\d{1,3}][\\,\\d]+[\\.]?[\\d]+'\n",
    "pattern3 = '\\#[a-zA-Z\\d_]*'\n",
    "pattern4 = '[a-z]*\\@[a-z]*\\.[a-z]*'\n",
    "print(my_pattern(pattern1,chat1))\n",
    "print(my_pattern(pattern2,chat2))\n",
    "print(my_pattern(pattern3,chat3))\n",
    "print(my_pattern(pattern4,chat4))"
   ]
  },
  {
   "cell_type": "code",
   "execution_count": 5,
   "id": "0a10cf38-f34d-4d07-a285-85889a140ef1",
   "metadata": {},
   "outputs": [],
   "source": [
    "chat5 = '''Natural Language Processing is amazing, isn't it?'''\n",
    "chat6 = 'I love AI. It is transforming industries. However, ethical concerns remain.'\n",
    "chat7 = 'Apple was founded by Steve Jobs in California.'"
   ]
  },
  {
   "cell_type": "code",
   "execution_count": 9,
   "id": "86c3b678-1d17-4dfa-a7e2-0d3e14e5c78a",
   "metadata": {},
   "outputs": [],
   "source": [
    "nlp = spacy.load('en_core_web_sm')"
   ]
  },
  {
   "cell_type": "code",
   "execution_count": 19,
   "id": "c9cf9b6a-f935-4762-ae84-6d72a7a89c51",
   "metadata": {},
   "outputs": [
    {
     "data": {
      "text/plain": [
       "[Natural, Language, Processing, is, amazing, ,, is, n't, it, ?]"
      ]
     },
     "execution_count": 19,
     "metadata": {},
     "output_type": "execute_result"
    }
   ],
   "source": [
    "doc = nlp(chat5)\n",
    "token = []\n",
    "for sent in doc:\n",
    "    token.append(sent)\n",
    "token"
   ]
  },
  {
   "cell_type": "code",
   "execution_count": 24,
   "id": "05487679-726a-479d-aea6-0998880523ca",
   "metadata": {},
   "outputs": [
    {
     "data": {
      "text/plain": [
       "[I love AI., It is transforming industries., However, ethical concerns remain.]"
      ]
     },
     "execution_count": 24,
     "metadata": {},
     "output_type": "execute_result"
    }
   ],
   "source": [
    "doc = nlp(chat6)\n",
    "token = [tk for tk in doc.sents]\n",
    "token"
   ]
  },
  {
   "cell_type": "code",
   "execution_count": 26,
   "id": "15364f26-6505-4613-b8ee-29335e9f6db9",
   "metadata": {},
   "outputs": [
    {
     "name": "stdout",
     "output_type": "stream",
     "text": [
      "Apple -> alphabetic\n",
      "was -> alphabetic\n",
      "founded -> alphabetic\n",
      "by -> alphabetic\n",
      "Steve -> alphabetic\n",
      "Jobs -> alphabetic\n",
      "in -> alphabetic\n",
      "California -> alphabetic\n",
      ". -> puntuation\n"
     ]
    }
   ],
   "source": [
    "doc = nlp(chat7)\n",
    "def typetoken(token):\n",
    "    if token.is_alpha:\n",
    "        return token, 'alphabetic'\n",
    "    else: return token, 'puntuation'\n",
    "for token in doc:\n",
    "    op, typ = typetoken(token)\n",
    "    print(op,'->',typ)"
   ]
  },
  {
   "cell_type": "code",
   "execution_count": null,
   "id": "9afbec9c-790d-49fa-8923-4b67711c8504",
   "metadata": {},
   "outputs": [],
   "source": []
  }
 ],
 "metadata": {
  "kernelspec": {
   "display_name": "Python 3 (ipykernel)",
   "language": "python",
   "name": "python3"
  },
  "language_info": {
   "codemirror_mode": {
    "name": "ipython",
    "version": 3
   },
   "file_extension": ".py",
   "mimetype": "text/x-python",
   "name": "python",
   "nbconvert_exporter": "python",
   "pygments_lexer": "ipython3",
   "version": "3.13.3"
  }
 },
 "nbformat": 4,
 "nbformat_minor": 5
}
