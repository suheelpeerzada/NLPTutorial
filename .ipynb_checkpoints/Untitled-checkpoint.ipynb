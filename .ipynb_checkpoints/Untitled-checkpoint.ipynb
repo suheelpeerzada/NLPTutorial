{
 "cells": [
  {
   "cell_type": "markdown",
   "id": "c513e83b-989a-4f1b-a8e0-bc8947d8d98a",
   "metadata": {},
   "source": [
    "SPAM Detection"
   ]
  },
  {
   "cell_type": "code",
   "execution_count": 5,
   "id": "00ee2e58-bcd1-4c46-9aee-c4d31e16c069",
   "metadata": {},
   "outputs": [],
   "source": [
    "#LabelEncoding"
   ]
  },
  {
   "cell_type": "code",
   "execution_count": null,
   "id": "78a3d435-c20e-4b4d-bb04-544fe509739f",
   "metadata": {},
   "outputs": [],
   "source": []
  }
 ],
 "metadata": {
  "kernelspec": {
   "display_name": "Python 3 (ipykernel)",
   "language": "python",
   "name": "python3"
  },
  "language_info": {
   "codemirror_mode": {
    "name": "ipython",
    "version": 3
   },
   "file_extension": ".py",
   "mimetype": "text/x-python",
   "name": "python",
   "nbconvert_exporter": "python",
   "pygments_lexer": "ipython3",
   "version": "3.13.3"
  }
 },
 "nbformat": 4,
 "nbformat_minor": 5
}
