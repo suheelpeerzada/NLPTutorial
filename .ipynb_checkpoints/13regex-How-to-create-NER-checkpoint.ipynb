{
 "cells": [
  {
   "cell_type": "code",
   "execution_count": 1,
   "id": "3b2bae96-526d-4682-b945-8819c6da92cb",
   "metadata": {},
   "outputs": [],
   "source": [
    "#how to build my own NER"
   ]
  },
  {
   "cell_type": "markdown",
   "id": "9c8ce30e-343c-49ec-8707-981b9aad2ee8",
   "metadata": {},
   "source": [
    "Approach 1: Simple Lookup"
   ]
  },
  {
   "cell_type": "markdown",
   "id": "7c45ca52-1980-4902-905b-328c991fbbd2",
   "metadata": {},
   "source": [
    "Approach 2: Rule Based NER - regex/POS"
   ]
  },
  {
   "cell_type": "markdown",
   "id": "fa35f97b-431f-444e-aadc-d4b2ed4b679e",
   "metadata": {},
   "source": [
    "Approach 3: Machine Learning- Conditional Random Fields(CRF) or BERT"
   ]
  },
  {
   "cell_type": "markdown",
   "id": "d5530d06-3b88-481f-a575-d2d6a9068ea9",
   "metadata": {},
   "source": []
  }
 ],
 "metadata": {
  "kernelspec": {
   "display_name": "Python 3 (ipykernel)",
   "language": "python",
   "name": "python3"
  },
  "language_info": {
   "codemirror_mode": {
    "name": "ipython",
    "version": 3
   },
   "file_extension": ".py",
   "mimetype": "text/x-python",
   "name": "python",
   "nbconvert_exporter": "python",
   "pygments_lexer": "ipython3",
   "version": "3.13.3"
  }
 },
 "nbformat": 4,
 "nbformat_minor": 5
}
