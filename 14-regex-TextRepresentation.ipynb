{
 "cells": [
  {
   "cell_type": "code",
   "execution_count": 3,
   "id": "9df2825e-6ddd-4389-a4d9-41eb97ed9f67",
   "metadata": {},
   "outputs": [],
   "source": [
    "#TextRepresentation aka Feature Engineering"
   ]
  },
  {
   "cell_type": "markdown",
   "id": "49704b45-a453-448e-b056-69f43283cc63",
   "metadata": {},
   "source": [
    "Representing text as a vector is also known as Vector Space Model"
   ]
  },
  {
   "cell_type": "markdown",
   "id": "b034acbd-8535-4242-8d8b-6c7d9b61ba2a",
   "metadata": {},
   "source": [
    "Dhoni ------> Person:1, Fit: 0.9, Location: 0, Has 2 eyes:1, Has government:0"
   ]
  },
  {
   "cell_type": "markdown",
   "id": "08f9e3f9-7480-4485-b9e0-d8b36c72030c",
   "metadata": {},
   "source": [
    "Which beomes: [1,0.9,0,1,0] ie a Vector"
   ]
  },
  {
   "cell_type": "markdown",
   "id": "6254506b-9a4e-43c7-b07e-19c86e53d082",
   "metadata": {},
   "source": [
    "Similarly we can find relation between words by finding the Cosine similarity of their vectors"
   ]
  },
  {
   "cell_type": "code",
   "execution_count": 4,
   "id": "cfcc6b41-e4c3-42b6-ae2b-21b17c12fcb3",
   "metadata": {},
   "outputs": [],
   "source": [
    "#various approaches for coming up with a vector:"
   ]
  },
  {
   "cell_type": "markdown",
   "id": "c2d88589-0281-44e3-a921-7cea893e8c13",
   "metadata": {},
   "source": [
    "1. One Hot Encoding\n",
    "2. Bag of Words\n",
    "3. Tf-IDF\n",
    "4. Word Embeddings"
   ]
  },
  {
   "cell_type": "code",
   "execution_count": null,
   "id": "8ac2c78c-69d6-4d10-b0a4-e531757678a6",
   "metadata": {},
   "outputs": [],
   "source": []
  }
 ],
 "metadata": {
  "kernelspec": {
   "display_name": "Python 3 (ipykernel)",
   "language": "python",
   "name": "python3"
  },
  "language_info": {
   "codemirror_mode": {
    "name": "ipython",
    "version": 3
   },
   "file_extension": ".py",
   "mimetype": "text/x-python",
   "name": "python",
   "nbconvert_exporter": "python",
   "pygments_lexer": "ipython3",
   "version": "3.13.3"
  }
 },
 "nbformat": 4,
 "nbformat_minor": 5
}
